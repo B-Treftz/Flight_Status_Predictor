{
 "cells": [
  {
   "cell_type": "markdown",
   "metadata": {},
   "source": [
    "# Flight Status Predictor - EDA"
   ]
  },
  {
   "cell_type": "code",
   "execution_count": 152,
   "metadata": {},
   "outputs": [],
   "source": [
    "# Import Libraries\n",
    "\n",
    "import pandas as pd\n",
    "import numpy as np\n",
    "import plotly as plt\n",
    "import plotly.graph_objects as go\n",
    "import plotly.express as px\n",
    "import plotly.subplots as sp\n",
    "import seaborn as sns\n",
    "\n",
    "pd.options.display.max_columns = 50\n"
   ]
  },
  {
   "cell_type": "code",
   "execution_count": 153,
   "metadata": {},
   "outputs": [],
   "source": [
    "# Import data\n",
    "\n",
    "df = pd.read_csv('Flight_On_Time_Data.csv')"
   ]
  },
  {
   "cell_type": "markdown",
   "metadata": {},
   "source": [
    "## Organize DataFrame"
   ]
  },
  {
   "cell_type": "code",
   "execution_count": 154,
   "metadata": {},
   "outputs": [
    {
     "data": {
      "text/html": [
       "<div>\n",
       "<style scoped>\n",
       "    .dataframe tbody tr th:only-of-type {\n",
       "        vertical-align: middle;\n",
       "    }\n",
       "\n",
       "    .dataframe tbody tr th {\n",
       "        vertical-align: top;\n",
       "    }\n",
       "\n",
       "    .dataframe thead th {\n",
       "        text-align: right;\n",
       "    }\n",
       "</style>\n",
       "<table border=\"1\" class=\"dataframe\">\n",
       "  <thead>\n",
       "    <tr style=\"text-align: right;\">\n",
       "      <th></th>\n",
       "      <th>Carrier_Name</th>\n",
       "      <th>Year</th>\n",
       "      <th>Quarter</th>\n",
       "      <th>Month</th>\n",
       "      <th>Month_Day</th>\n",
       "      <th>Week_Day</th>\n",
       "      <th>Flight_Date</th>\n",
       "      <th>Airline_DOT_ID</th>\n",
       "      <th>Tail_Number</th>\n",
       "      <th>Flight_Number</th>\n",
       "      <th>Origin_Airport_ID</th>\n",
       "      <th>Origin_City_Market_ID</th>\n",
       "      <th>Origin_IATA_Code</th>\n",
       "      <th>Origin_City_State</th>\n",
       "      <th>Destination_Airport_ID</th>\n",
       "      <th>Destination_City_Market_ID</th>\n",
       "      <th>Destination_IATA_Code</th>\n",
       "      <th>Destination_City_State</th>\n",
       "      <th>Dep_Time_Block_Group</th>\n",
       "      <th>Scheduled_Departure_Time</th>\n",
       "      <th>Actual_Dep_Time</th>\n",
       "      <th>Dep_Time_Offset</th>\n",
       "      <th>Dep_Delay_Minutes</th>\n",
       "      <th>Dep_Delay_At_Least_15_Minutes</th>\n",
       "      <th>Scheduled_Arrival_Time</th>\n",
       "      <th>Arr_Time_Block_Group</th>\n",
       "      <th>Actual_Arr_Time</th>\n",
       "      <th>Arr_Time_Offset</th>\n",
       "      <th>Arr_Delay_Minutes</th>\n",
       "      <th>Arr_Delay_At_Least_15_Minutes</th>\n",
       "      <th>Flight_Cancelled</th>\n",
       "      <th>Flight_Diverted</th>\n",
       "      <th>Scheduled_Gate_to_Gate_Time</th>\n",
       "      <th>Actual_Gate_to_Gate_Time</th>\n",
       "      <th>Time_Airborne</th>\n",
       "      <th>Number_of_Flights</th>\n",
       "      <th>Distance_Miles</th>\n",
       "      <th>Distance_Group</th>\n",
       "      <th>Carrier_Delay</th>\n",
       "      <th>Weather_Delay</th>\n",
       "      <th>National_Aviation_System_Delay</th>\n",
       "      <th>Security_Delay</th>\n",
       "      <th>Late_Aircraft_Delay</th>\n",
       "    </tr>\n",
       "  </thead>\n",
       "  <tbody>\n",
       "    <tr>\n",
       "      <th>0</th>\n",
       "      <td>United Air Lines Inc.</td>\n",
       "      <td>2023</td>\n",
       "      <td>2</td>\n",
       "      <td>Apr</td>\n",
       "      <td>26</td>\n",
       "      <td>Wednesday</td>\n",
       "      <td>2023-04-26</td>\n",
       "      <td>19977</td>\n",
       "      <td>N851UA</td>\n",
       "      <td>1788</td>\n",
       "      <td>11298</td>\n",
       "      <td>30194</td>\n",
       "      <td>DFW</td>\n",
       "      <td>Dallas/Fort Worth, TX</td>\n",
       "      <td>11618</td>\n",
       "      <td>31703</td>\n",
       "      <td>EWR</td>\n",
       "      <td>Newark, NJ</td>\n",
       "      <td>Evening</td>\n",
       "      <td>1926</td>\n",
       "      <td>1933</td>\n",
       "      <td>7</td>\n",
       "      <td>7</td>\n",
       "      <td>0</td>\n",
       "      <td>2359</td>\n",
       "      <td>Night</td>\n",
       "      <td>12</td>\n",
       "      <td>13</td>\n",
       "      <td>13</td>\n",
       "      <td>0</td>\n",
       "      <td>0</td>\n",
       "      <td>0</td>\n",
       "      <td>213</td>\n",
       "      <td>219</td>\n",
       "      <td>162</td>\n",
       "      <td>1</td>\n",
       "      <td>1372</td>\n",
       "      <td>6</td>\n",
       "      <td>NaN</td>\n",
       "      <td>NaN</td>\n",
       "      <td>NaN</td>\n",
       "      <td>NaN</td>\n",
       "      <td>NaN</td>\n",
       "    </tr>\n",
       "    <tr>\n",
       "      <th>1</th>\n",
       "      <td>United Air Lines Inc.</td>\n",
       "      <td>2023</td>\n",
       "      <td>2</td>\n",
       "      <td>Apr</td>\n",
       "      <td>26</td>\n",
       "      <td>Wednesday</td>\n",
       "      <td>2023-04-26</td>\n",
       "      <td>19977</td>\n",
       "      <td>N37530</td>\n",
       "      <td>1787</td>\n",
       "      <td>11292</td>\n",
       "      <td>30325</td>\n",
       "      <td>DEN</td>\n",
       "      <td>Denver, CO</td>\n",
       "      <td>13871</td>\n",
       "      <td>33316</td>\n",
       "      <td>OMA</td>\n",
       "      <td>Omaha, NE</td>\n",
       "      <td>Evening</td>\n",
       "      <td>2051</td>\n",
       "      <td>2130</td>\n",
       "      <td>39</td>\n",
       "      <td>39</td>\n",
       "      <td>1</td>\n",
       "      <td>2316</td>\n",
       "      <td>Night</td>\n",
       "      <td>3</td>\n",
       "      <td>47</td>\n",
       "      <td>47</td>\n",
       "      <td>1</td>\n",
       "      <td>0</td>\n",
       "      <td>0</td>\n",
       "      <td>85</td>\n",
       "      <td>93</td>\n",
       "      <td>65</td>\n",
       "      <td>1</td>\n",
       "      <td>472</td>\n",
       "      <td>2</td>\n",
       "      <td>39.0</td>\n",
       "      <td>0.0</td>\n",
       "      <td>8.0</td>\n",
       "      <td>0.0</td>\n",
       "      <td>0.0</td>\n",
       "    </tr>\n",
       "    <tr>\n",
       "      <th>2</th>\n",
       "      <td>United Air Lines Inc.</td>\n",
       "      <td>2023</td>\n",
       "      <td>2</td>\n",
       "      <td>Apr</td>\n",
       "      <td>26</td>\n",
       "      <td>Wednesday</td>\n",
       "      <td>2023-04-26</td>\n",
       "      <td>19977</td>\n",
       "      <td>N78509</td>\n",
       "      <td>1786</td>\n",
       "      <td>12892</td>\n",
       "      <td>32575</td>\n",
       "      <td>LAX</td>\n",
       "      <td>Los Angeles, CA</td>\n",
       "      <td>11042</td>\n",
       "      <td>30647</td>\n",
       "      <td>CLE</td>\n",
       "      <td>Cleveland, OH</td>\n",
       "      <td>Night</td>\n",
       "      <td>2328</td>\n",
       "      <td>2319</td>\n",
       "      <td>-9</td>\n",
       "      <td>0</td>\n",
       "      <td>0</td>\n",
       "      <td>701</td>\n",
       "      <td>Early Morning</td>\n",
       "      <td>650</td>\n",
       "      <td>-11</td>\n",
       "      <td>0</td>\n",
       "      <td>0</td>\n",
       "      <td>0</td>\n",
       "      <td>0</td>\n",
       "      <td>273</td>\n",
       "      <td>271</td>\n",
       "      <td>249</td>\n",
       "      <td>1</td>\n",
       "      <td>2052</td>\n",
       "      <td>9</td>\n",
       "      <td>NaN</td>\n",
       "      <td>NaN</td>\n",
       "      <td>NaN</td>\n",
       "      <td>NaN</td>\n",
       "      <td>NaN</td>\n",
       "    </tr>\n",
       "    <tr>\n",
       "      <th>3</th>\n",
       "      <td>United Air Lines Inc.</td>\n",
       "      <td>2023</td>\n",
       "      <td>2</td>\n",
       "      <td>Apr</td>\n",
       "      <td>26</td>\n",
       "      <td>Wednesday</td>\n",
       "      <td>2023-04-26</td>\n",
       "      <td>19977</td>\n",
       "      <td>N47280</td>\n",
       "      <td>1785</td>\n",
       "      <td>10721</td>\n",
       "      <td>30721</td>\n",
       "      <td>BOS</td>\n",
       "      <td>Boston, MA</td>\n",
       "      <td>12264</td>\n",
       "      <td>30852</td>\n",
       "      <td>IAD</td>\n",
       "      <td>Washington, DC</td>\n",
       "      <td>Early Morning</td>\n",
       "      <td>600</td>\n",
       "      <td>557</td>\n",
       "      <td>-3</td>\n",
       "      <td>0</td>\n",
       "      <td>0</td>\n",
       "      <td>735</td>\n",
       "      <td>Early Morning</td>\n",
       "      <td>724</td>\n",
       "      <td>-11</td>\n",
       "      <td>0</td>\n",
       "      <td>0</td>\n",
       "      <td>0</td>\n",
       "      <td>0</td>\n",
       "      <td>95</td>\n",
       "      <td>87</td>\n",
       "      <td>69</td>\n",
       "      <td>1</td>\n",
       "      <td>413</td>\n",
       "      <td>2</td>\n",
       "      <td>NaN</td>\n",
       "      <td>NaN</td>\n",
       "      <td>NaN</td>\n",
       "      <td>NaN</td>\n",
       "      <td>NaN</td>\n",
       "    </tr>\n",
       "    <tr>\n",
       "      <th>4</th>\n",
       "      <td>United Air Lines Inc.</td>\n",
       "      <td>2023</td>\n",
       "      <td>2</td>\n",
       "      <td>Apr</td>\n",
       "      <td>26</td>\n",
       "      <td>Wednesday</td>\n",
       "      <td>2023-04-26</td>\n",
       "      <td>19977</td>\n",
       "      <td>N826UA</td>\n",
       "      <td>1784</td>\n",
       "      <td>14747</td>\n",
       "      <td>30559</td>\n",
       "      <td>SEA</td>\n",
       "      <td>Seattle, WA</td>\n",
       "      <td>11292</td>\n",
       "      <td>30325</td>\n",
       "      <td>DEN</td>\n",
       "      <td>Denver, CO</td>\n",
       "      <td>Morning</td>\n",
       "      <td>1116</td>\n",
       "      <td>1113</td>\n",
       "      <td>-3</td>\n",
       "      <td>0</td>\n",
       "      <td>0</td>\n",
       "      <td>1459</td>\n",
       "      <td>Early Afternoon</td>\n",
       "      <td>1453</td>\n",
       "      <td>-6</td>\n",
       "      <td>0</td>\n",
       "      <td>0</td>\n",
       "      <td>0</td>\n",
       "      <td>0</td>\n",
       "      <td>163</td>\n",
       "      <td>160</td>\n",
       "      <td>129</td>\n",
       "      <td>1</td>\n",
       "      <td>1024</td>\n",
       "      <td>5</td>\n",
       "      <td>NaN</td>\n",
       "      <td>NaN</td>\n",
       "      <td>NaN</td>\n",
       "      <td>NaN</td>\n",
       "      <td>NaN</td>\n",
       "    </tr>\n",
       "  </tbody>\n",
       "</table>\n",
       "</div>"
      ],
      "text/plain": [
       "            Carrier_Name  Year  Quarter Month  Month_Day   Week_Day  \\\n",
       "0  United Air Lines Inc.  2023        2   Apr         26  Wednesday   \n",
       "1  United Air Lines Inc.  2023        2   Apr         26  Wednesday   \n",
       "2  United Air Lines Inc.  2023        2   Apr         26  Wednesday   \n",
       "3  United Air Lines Inc.  2023        2   Apr         26  Wednesday   \n",
       "4  United Air Lines Inc.  2023        2   Apr         26  Wednesday   \n",
       "\n",
       "  Flight_Date  Airline_DOT_ID Tail_Number  Flight_Number  Origin_Airport_ID  \\\n",
       "0  2023-04-26           19977      N851UA           1788              11298   \n",
       "1  2023-04-26           19977      N37530           1787              11292   \n",
       "2  2023-04-26           19977      N78509           1786              12892   \n",
       "3  2023-04-26           19977      N47280           1785              10721   \n",
       "4  2023-04-26           19977      N826UA           1784              14747   \n",
       "\n",
       "   Origin_City_Market_ID Origin_IATA_Code      Origin_City_State  \\\n",
       "0                  30194              DFW  Dallas/Fort Worth, TX   \n",
       "1                  30325              DEN             Denver, CO   \n",
       "2                  32575              LAX        Los Angeles, CA   \n",
       "3                  30721              BOS             Boston, MA   \n",
       "4                  30559              SEA            Seattle, WA   \n",
       "\n",
       "   Destination_Airport_ID  Destination_City_Market_ID Destination_IATA_Code  \\\n",
       "0                   11618                       31703                   EWR   \n",
       "1                   13871                       33316                   OMA   \n",
       "2                   11042                       30647                   CLE   \n",
       "3                   12264                       30852                   IAD   \n",
       "4                   11292                       30325                   DEN   \n",
       "\n",
       "  Destination_City_State Dep_Time_Block_Group  Scheduled_Departure_Time  \\\n",
       "0             Newark, NJ              Evening                      1926   \n",
       "1              Omaha, NE              Evening                      2051   \n",
       "2          Cleveland, OH                Night                      2328   \n",
       "3         Washington, DC        Early Morning                       600   \n",
       "4             Denver, CO              Morning                      1116   \n",
       "\n",
       "   Actual_Dep_Time  Dep_Time_Offset  Dep_Delay_Minutes  \\\n",
       "0             1933                7                  7   \n",
       "1             2130               39                 39   \n",
       "2             2319               -9                  0   \n",
       "3              557               -3                  0   \n",
       "4             1113               -3                  0   \n",
       "\n",
       "   Dep_Delay_At_Least_15_Minutes  Scheduled_Arrival_Time Arr_Time_Block_Group  \\\n",
       "0                              0                    2359                Night   \n",
       "1                              1                    2316                Night   \n",
       "2                              0                     701        Early Morning   \n",
       "3                              0                     735        Early Morning   \n",
       "4                              0                    1459      Early Afternoon   \n",
       "\n",
       "   Actual_Arr_Time  Arr_Time_Offset  Arr_Delay_Minutes  \\\n",
       "0               12               13                 13   \n",
       "1                3               47                 47   \n",
       "2              650              -11                  0   \n",
       "3              724              -11                  0   \n",
       "4             1453               -6                  0   \n",
       "\n",
       "   Arr_Delay_At_Least_15_Minutes  Flight_Cancelled  Flight_Diverted  \\\n",
       "0                              0                 0                0   \n",
       "1                              1                 0                0   \n",
       "2                              0                 0                0   \n",
       "3                              0                 0                0   \n",
       "4                              0                 0                0   \n",
       "\n",
       "   Scheduled_Gate_to_Gate_Time  Actual_Gate_to_Gate_Time  Time_Airborne  \\\n",
       "0                          213                       219            162   \n",
       "1                           85                        93             65   \n",
       "2                          273                       271            249   \n",
       "3                           95                        87             69   \n",
       "4                          163                       160            129   \n",
       "\n",
       "   Number_of_Flights  Distance_Miles  Distance_Group  Carrier_Delay  \\\n",
       "0                  1            1372               6            NaN   \n",
       "1                  1             472               2           39.0   \n",
       "2                  1            2052               9            NaN   \n",
       "3                  1             413               2            NaN   \n",
       "4                  1            1024               5            NaN   \n",
       "\n",
       "   Weather_Delay  National_Aviation_System_Delay  Security_Delay  \\\n",
       "0            NaN                             NaN             NaN   \n",
       "1            0.0                             8.0             0.0   \n",
       "2            NaN                             NaN             NaN   \n",
       "3            NaN                             NaN             NaN   \n",
       "4            NaN                             NaN             NaN   \n",
       "\n",
       "   Late_Aircraft_Delay  \n",
       "0                  NaN  \n",
       "1                  0.0  \n",
       "2                  NaN  \n",
       "3                  NaN  \n",
       "4                  NaN  "
      ]
     },
     "execution_count": 154,
     "metadata": {},
     "output_type": "execute_result"
    }
   ],
   "source": [
    "df.head()"
   ]
  },
  {
   "cell_type": "code",
   "execution_count": 155,
   "metadata": {},
   "outputs": [
    {
     "name": "stdout",
     "output_type": "stream",
     "text": [
      "<class 'pandas.core.frame.DataFrame'>\n",
      "RangeIndex: 6777978 entries, 0 to 6777977\n",
      "Data columns (total 13 columns):\n",
      " #   Column                    Dtype \n",
      "---  ------                    ----- \n",
      " 0   Carrier_Name              object\n",
      " 1   Month                     object\n",
      " 2   Week_Day                  object\n",
      " 3   Tail_Number               object\n",
      " 4   Origin                    object\n",
      " 5   Destination               object\n",
      " 6   Dep_Time_Block_Group      object\n",
      " 7   Scheduled_Departure_Time  int64 \n",
      " 8   Scheduled_Arrival_Time    int64 \n",
      " 9   Arr_Time_Block_Group      object\n",
      " 10  Delayed                   int64 \n",
      " 11  Distance_Miles            int64 \n",
      " 12  Distance_Group            int64 \n",
      "dtypes: int64(5), object(8)\n",
      "memory usage: 672.3+ MB\n"
     ]
    }
   ],
   "source": [
    "# Dropping redundant or extraneous columns and \n",
    "# renaming target variable to Delayed15\n",
    "\n",
    "df = df[['Carrier_Name', \n",
    "        #'Year', 'Quarter', \n",
    "        'Month', \n",
    "        #'Month_Day', \n",
    "        'Week_Day',\n",
    "        #'Flight_Date', 'Airline_DOT_ID', \n",
    "        'Tail_Number', \n",
    "        #'Flight_Number',\n",
    "        #'Origin_Airport_ID', 'Origin_City_Market_ID', \n",
    "        'Origin_IATA_Code',\n",
    "        #'Origin_City_State', 'Destination_Airport_ID',\n",
    "        #'Destination_City_Market_ID', \n",
    "        'Destination_IATA_Code',\n",
    "        #'Destination_City_State', \n",
    "        'Dep_Time_Block_Group',\n",
    "        'Scheduled_Departure_Time', \n",
    "        #'Actual_Dep_Time', 'Dep_Time_Offset',\n",
    "        #'Dep_Delay_Minutes', 'Dep_Delay_At_Least_15_Minutes',\n",
    "        'Scheduled_Arrival_Time', \n",
    "        'Arr_Time_Block_Group', #'Actual_Arr_Time',\n",
    "        #'Arr_Time_Offset', 'Arr_Delay_Minutes', \n",
    "        'Arr_Delay_At_Least_15_Minutes',\n",
    "        #'Flight_Cancelled', 'Flight_Diverted', 'Scheduled_Gate_to_Gate_Time',\n",
    "        #'Actual_Gate_to_Gate_Time', 'Time_Airborne', 'Number_of_Flights',\n",
    "        'Distance_Miles', \n",
    "        'Distance_Group', \n",
    "        #'Carrier_Delay', 'Weather_Delay',\n",
    "        #'National_Aviation_System_Delay', 'Security_Delay',\n",
    "        #'Late_Aircraft_Delay'\n",
    "]].copy()\n",
    "\n",
    "df.rename(columns={'Arr_Delay_At_Least_15_Minutes':'Delayed','Origin_IATA_Code':'Origin','Destination_IATA_Code':'Destination'}, inplace = True)\n",
    "\n",
    "df.info()"
   ]
  },
  {
   "cell_type": "code",
   "execution_count": 164,
   "metadata": {},
   "outputs": [
    {
     "name": "stdout",
     "output_type": "stream",
     "text": [
      "<class 'pandas.core.frame.DataFrame'>\n",
      "RangeIndex: 6777978 entries, 0 to 6777977\n",
      "Data columns (total 13 columns):\n",
      " #   Column                    Dtype \n",
      "---  ------                    ----- \n",
      " 0   Carrier_Name              object\n",
      " 1   Month                     object\n",
      " 2   Week_Day                  object\n",
      " 3   Tail_Number               object\n",
      " 4   Origin                    object\n",
      " 5   Destination               object\n",
      " 6   Dep_Time_Block_Group      object\n",
      " 7   Arr_Time_Block_Group      object\n",
      " 8   Distance_Group            int64 \n",
      " 9   Distance_Miles            int64 \n",
      " 10  Scheduled_Departure_Time  int64 \n",
      " 11  Scheduled_Arrival_Time    int64 \n",
      " 12  Delayed                   int64 \n",
      "dtypes: int64(5), object(8)\n",
      "memory usage: 672.3+ MB\n"
     ]
    }
   ],
   "source": [
    "# Grouping numerical columns and\n",
    "# Moving the target variable to be the right-most column\n",
    "\n",
    "# Columns to move\n",
    "cols_to_move = [\n",
    "                'Distance_Miles',\n",
    "                'Scheduled_Departure_Time', \n",
    "                'Scheduled_Arrival_Time' \n",
    "                ]\n",
    "\n",
    "last_col = 'Delayed'\n",
    "\n",
    "# Extracting the columns to move\n",
    "columns_to_move = df[cols_to_move]\n",
    "\n",
    "# Dropping these columns from the DataFrame\n",
    "df.drop(columns=cols_to_move, inplace=True)\n",
    "\n",
    "# Extracting the last column\n",
    "last_column = df.pop(last_col)\n",
    "\n",
    "# Reinserting the numerical columns\n",
    "df = pd.concat([df, columns_to_move], axis=1)\n",
    "\n",
    "# Reinserting the last column\n",
    "df[last_col] = last_column\n",
    "\n",
    "df.info()"
   ]
  },
  {
   "cell_type": "markdown",
   "metadata": {},
   "source": [
    "## Delayed Flights Analysis "
   ]
  },
  {
   "cell_type": "markdown",
   "metadata": {},
   "source": [
    "### Total Number of Delayed Flights from <u>01 Apr 2023</u> to <u>31 Mar 2024</u>"
   ]
  },
  {
   "cell_type": "code",
   "execution_count": 157,
   "metadata": {},
   "outputs": [
    {
     "name": "stdout",
     "output_type": "stream",
     "text": [
      "Total Number of Flights = 6,777,978\n",
      "Number of Delayed Flights = 1,371,451\n",
      "Percentage of Delayed Flights = 20.2 %\n"
     ]
    }
   ],
   "source": [
    "# Extract total number of flights\n",
    "num_flights = df['Delayed'].count()\n",
    "\n",
    "# Extract total number of on time and delayed flights\n",
    "on_time, delayed = df['Delayed'].value_counts()\n",
    "\n",
    "# Display total number of flights, delayed flights, and percentage delayed flights\n",
    "print(f'Total Number of Flights = {num_flights:,}')\n",
    "print(f'Number of Delayed Flights = {delayed:,}')\n",
    "print(f'Percentage of Delayed Flights = {(delayed/num_flights)*100:.3} %')"
   ]
  },
  {
   "cell_type": "code",
   "execution_count": 158,
   "metadata": {},
   "outputs": [
    {
     "data": {
      "application/vnd.plotly.v1+json": {
       "config": {
        "plotlyServerURL": "https://plot.ly"
       },
       "data": [
        {
         "insidetextorientation": "horizontal",
         "labels": [
          "On Time",
          "Delayed"
         ],
         "pull": [
          0,
          0.1
         ],
         "rotation": 73,
         "textinfo": "label+percent",
         "type": "pie",
         "values": [
          5406527,
          1371451
         ]
        }
       ],
       "layout": {
        "height": 500,
        "showlegend": false,
        "template": {
         "data": {
          "bar": [
           {
            "error_x": {
             "color": "#2a3f5f"
            },
            "error_y": {
             "color": "#2a3f5f"
            },
            "marker": {
             "line": {
              "color": "#E5ECF6",
              "width": 0.5
             },
             "pattern": {
              "fillmode": "overlay",
              "size": 10,
              "solidity": 0.2
             }
            },
            "type": "bar"
           }
          ],
          "barpolar": [
           {
            "marker": {
             "line": {
              "color": "#E5ECF6",
              "width": 0.5
             },
             "pattern": {
              "fillmode": "overlay",
              "size": 10,
              "solidity": 0.2
             }
            },
            "type": "barpolar"
           }
          ],
          "carpet": [
           {
            "aaxis": {
             "endlinecolor": "#2a3f5f",
             "gridcolor": "white",
             "linecolor": "white",
             "minorgridcolor": "white",
             "startlinecolor": "#2a3f5f"
            },
            "baxis": {
             "endlinecolor": "#2a3f5f",
             "gridcolor": "white",
             "linecolor": "white",
             "minorgridcolor": "white",
             "startlinecolor": "#2a3f5f"
            },
            "type": "carpet"
           }
          ],
          "choropleth": [
           {
            "colorbar": {
             "outlinewidth": 0,
             "ticks": ""
            },
            "type": "choropleth"
           }
          ],
          "contour": [
           {
            "colorbar": {
             "outlinewidth": 0,
             "ticks": ""
            },
            "colorscale": [
             [
              0,
              "#0d0887"
             ],
             [
              0.1111111111111111,
              "#46039f"
             ],
             [
              0.2222222222222222,
              "#7201a8"
             ],
             [
              0.3333333333333333,
              "#9c179e"
             ],
             [
              0.4444444444444444,
              "#bd3786"
             ],
             [
              0.5555555555555556,
              "#d8576b"
             ],
             [
              0.6666666666666666,
              "#ed7953"
             ],
             [
              0.7777777777777778,
              "#fb9f3a"
             ],
             [
              0.8888888888888888,
              "#fdca26"
             ],
             [
              1,
              "#f0f921"
             ]
            ],
            "type": "contour"
           }
          ],
          "contourcarpet": [
           {
            "colorbar": {
             "outlinewidth": 0,
             "ticks": ""
            },
            "type": "contourcarpet"
           }
          ],
          "heatmap": [
           {
            "colorbar": {
             "outlinewidth": 0,
             "ticks": ""
            },
            "colorscale": [
             [
              0,
              "#0d0887"
             ],
             [
              0.1111111111111111,
              "#46039f"
             ],
             [
              0.2222222222222222,
              "#7201a8"
             ],
             [
              0.3333333333333333,
              "#9c179e"
             ],
             [
              0.4444444444444444,
              "#bd3786"
             ],
             [
              0.5555555555555556,
              "#d8576b"
             ],
             [
              0.6666666666666666,
              "#ed7953"
             ],
             [
              0.7777777777777778,
              "#fb9f3a"
             ],
             [
              0.8888888888888888,
              "#fdca26"
             ],
             [
              1,
              "#f0f921"
             ]
            ],
            "type": "heatmap"
           }
          ],
          "heatmapgl": [
           {
            "colorbar": {
             "outlinewidth": 0,
             "ticks": ""
            },
            "colorscale": [
             [
              0,
              "#0d0887"
             ],
             [
              0.1111111111111111,
              "#46039f"
             ],
             [
              0.2222222222222222,
              "#7201a8"
             ],
             [
              0.3333333333333333,
              "#9c179e"
             ],
             [
              0.4444444444444444,
              "#bd3786"
             ],
             [
              0.5555555555555556,
              "#d8576b"
             ],
             [
              0.6666666666666666,
              "#ed7953"
             ],
             [
              0.7777777777777778,
              "#fb9f3a"
             ],
             [
              0.8888888888888888,
              "#fdca26"
             ],
             [
              1,
              "#f0f921"
             ]
            ],
            "type": "heatmapgl"
           }
          ],
          "histogram": [
           {
            "marker": {
             "pattern": {
              "fillmode": "overlay",
              "size": 10,
              "solidity": 0.2
             }
            },
            "type": "histogram"
           }
          ],
          "histogram2d": [
           {
            "colorbar": {
             "outlinewidth": 0,
             "ticks": ""
            },
            "colorscale": [
             [
              0,
              "#0d0887"
             ],
             [
              0.1111111111111111,
              "#46039f"
             ],
             [
              0.2222222222222222,
              "#7201a8"
             ],
             [
              0.3333333333333333,
              "#9c179e"
             ],
             [
              0.4444444444444444,
              "#bd3786"
             ],
             [
              0.5555555555555556,
              "#d8576b"
             ],
             [
              0.6666666666666666,
              "#ed7953"
             ],
             [
              0.7777777777777778,
              "#fb9f3a"
             ],
             [
              0.8888888888888888,
              "#fdca26"
             ],
             [
              1,
              "#f0f921"
             ]
            ],
            "type": "histogram2d"
           }
          ],
          "histogram2dcontour": [
           {
            "colorbar": {
             "outlinewidth": 0,
             "ticks": ""
            },
            "colorscale": [
             [
              0,
              "#0d0887"
             ],
             [
              0.1111111111111111,
              "#46039f"
             ],
             [
              0.2222222222222222,
              "#7201a8"
             ],
             [
              0.3333333333333333,
              "#9c179e"
             ],
             [
              0.4444444444444444,
              "#bd3786"
             ],
             [
              0.5555555555555556,
              "#d8576b"
             ],
             [
              0.6666666666666666,
              "#ed7953"
             ],
             [
              0.7777777777777778,
              "#fb9f3a"
             ],
             [
              0.8888888888888888,
              "#fdca26"
             ],
             [
              1,
              "#f0f921"
             ]
            ],
            "type": "histogram2dcontour"
           }
          ],
          "mesh3d": [
           {
            "colorbar": {
             "outlinewidth": 0,
             "ticks": ""
            },
            "type": "mesh3d"
           }
          ],
          "parcoords": [
           {
            "line": {
             "colorbar": {
              "outlinewidth": 0,
              "ticks": ""
             }
            },
            "type": "parcoords"
           }
          ],
          "pie": [
           {
            "automargin": true,
            "type": "pie"
           }
          ],
          "scatter": [
           {
            "fillpattern": {
             "fillmode": "overlay",
             "size": 10,
             "solidity": 0.2
            },
            "type": "scatter"
           }
          ],
          "scatter3d": [
           {
            "line": {
             "colorbar": {
              "outlinewidth": 0,
              "ticks": ""
             }
            },
            "marker": {
             "colorbar": {
              "outlinewidth": 0,
              "ticks": ""
             }
            },
            "type": "scatter3d"
           }
          ],
          "scattercarpet": [
           {
            "marker": {
             "colorbar": {
              "outlinewidth": 0,
              "ticks": ""
             }
            },
            "type": "scattercarpet"
           }
          ],
          "scattergeo": [
           {
            "marker": {
             "colorbar": {
              "outlinewidth": 0,
              "ticks": ""
             }
            },
            "type": "scattergeo"
           }
          ],
          "scattergl": [
           {
            "marker": {
             "colorbar": {
              "outlinewidth": 0,
              "ticks": ""
             }
            },
            "type": "scattergl"
           }
          ],
          "scattermapbox": [
           {
            "marker": {
             "colorbar": {
              "outlinewidth": 0,
              "ticks": ""
             }
            },
            "type": "scattermapbox"
           }
          ],
          "scatterpolar": [
           {
            "marker": {
             "colorbar": {
              "outlinewidth": 0,
              "ticks": ""
             }
            },
            "type": "scatterpolar"
           }
          ],
          "scatterpolargl": [
           {
            "marker": {
             "colorbar": {
              "outlinewidth": 0,
              "ticks": ""
             }
            },
            "type": "scatterpolargl"
           }
          ],
          "scatterternary": [
           {
            "marker": {
             "colorbar": {
              "outlinewidth": 0,
              "ticks": ""
             }
            },
            "type": "scatterternary"
           }
          ],
          "surface": [
           {
            "colorbar": {
             "outlinewidth": 0,
             "ticks": ""
            },
            "colorscale": [
             [
              0,
              "#0d0887"
             ],
             [
              0.1111111111111111,
              "#46039f"
             ],
             [
              0.2222222222222222,
              "#7201a8"
             ],
             [
              0.3333333333333333,
              "#9c179e"
             ],
             [
              0.4444444444444444,
              "#bd3786"
             ],
             [
              0.5555555555555556,
              "#d8576b"
             ],
             [
              0.6666666666666666,
              "#ed7953"
             ],
             [
              0.7777777777777778,
              "#fb9f3a"
             ],
             [
              0.8888888888888888,
              "#fdca26"
             ],
             [
              1,
              "#f0f921"
             ]
            ],
            "type": "surface"
           }
          ],
          "table": [
           {
            "cells": {
             "fill": {
              "color": "#EBF0F8"
             },
             "line": {
              "color": "white"
             }
            },
            "header": {
             "fill": {
              "color": "#C8D4E3"
             },
             "line": {
              "color": "white"
             }
            },
            "type": "table"
           }
          ]
         },
         "layout": {
          "annotationdefaults": {
           "arrowcolor": "#2a3f5f",
           "arrowhead": 0,
           "arrowwidth": 1
          },
          "autotypenumbers": "strict",
          "coloraxis": {
           "colorbar": {
            "outlinewidth": 0,
            "ticks": ""
           }
          },
          "colorscale": {
           "diverging": [
            [
             0,
             "#8e0152"
            ],
            [
             0.1,
             "#c51b7d"
            ],
            [
             0.2,
             "#de77ae"
            ],
            [
             0.3,
             "#f1b6da"
            ],
            [
             0.4,
             "#fde0ef"
            ],
            [
             0.5,
             "#f7f7f7"
            ],
            [
             0.6,
             "#e6f5d0"
            ],
            [
             0.7,
             "#b8e186"
            ],
            [
             0.8,
             "#7fbc41"
            ],
            [
             0.9,
             "#4d9221"
            ],
            [
             1,
             "#276419"
            ]
           ],
           "sequential": [
            [
             0,
             "#0d0887"
            ],
            [
             0.1111111111111111,
             "#46039f"
            ],
            [
             0.2222222222222222,
             "#7201a8"
            ],
            [
             0.3333333333333333,
             "#9c179e"
            ],
            [
             0.4444444444444444,
             "#bd3786"
            ],
            [
             0.5555555555555556,
             "#d8576b"
            ],
            [
             0.6666666666666666,
             "#ed7953"
            ],
            [
             0.7777777777777778,
             "#fb9f3a"
            ],
            [
             0.8888888888888888,
             "#fdca26"
            ],
            [
             1,
             "#f0f921"
            ]
           ],
           "sequentialminus": [
            [
             0,
             "#0d0887"
            ],
            [
             0.1111111111111111,
             "#46039f"
            ],
            [
             0.2222222222222222,
             "#7201a8"
            ],
            [
             0.3333333333333333,
             "#9c179e"
            ],
            [
             0.4444444444444444,
             "#bd3786"
            ],
            [
             0.5555555555555556,
             "#d8576b"
            ],
            [
             0.6666666666666666,
             "#ed7953"
            ],
            [
             0.7777777777777778,
             "#fb9f3a"
            ],
            [
             0.8888888888888888,
             "#fdca26"
            ],
            [
             1,
             "#f0f921"
            ]
           ]
          },
          "colorway": [
           "#636efa",
           "#EF553B",
           "#00cc96",
           "#ab63fa",
           "#FFA15A",
           "#19d3f3",
           "#FF6692",
           "#B6E880",
           "#FF97FF",
           "#FECB52"
          ],
          "font": {
           "color": "#2a3f5f"
          },
          "geo": {
           "bgcolor": "white",
           "lakecolor": "white",
           "landcolor": "#E5ECF6",
           "showlakes": true,
           "showland": true,
           "subunitcolor": "white"
          },
          "hoverlabel": {
           "align": "left"
          },
          "hovermode": "closest",
          "mapbox": {
           "style": "light"
          },
          "paper_bgcolor": "white",
          "plot_bgcolor": "#E5ECF6",
          "polar": {
           "angularaxis": {
            "gridcolor": "white",
            "linecolor": "white",
            "ticks": ""
           },
           "bgcolor": "#E5ECF6",
           "radialaxis": {
            "gridcolor": "white",
            "linecolor": "white",
            "ticks": ""
           }
          },
          "scene": {
           "xaxis": {
            "backgroundcolor": "#E5ECF6",
            "gridcolor": "white",
            "gridwidth": 2,
            "linecolor": "white",
            "showbackground": true,
            "ticks": "",
            "zerolinecolor": "white"
           },
           "yaxis": {
            "backgroundcolor": "#E5ECF6",
            "gridcolor": "white",
            "gridwidth": 2,
            "linecolor": "white",
            "showbackground": true,
            "ticks": "",
            "zerolinecolor": "white"
           },
           "zaxis": {
            "backgroundcolor": "#E5ECF6",
            "gridcolor": "white",
            "gridwidth": 2,
            "linecolor": "white",
            "showbackground": true,
            "ticks": "",
            "zerolinecolor": "white"
           }
          },
          "shapedefaults": {
           "line": {
            "color": "#2a3f5f"
           }
          },
          "ternary": {
           "aaxis": {
            "gridcolor": "white",
            "linecolor": "white",
            "ticks": ""
           },
           "baxis": {
            "gridcolor": "white",
            "linecolor": "white",
            "ticks": ""
           },
           "bgcolor": "#E5ECF6",
           "caxis": {
            "gridcolor": "white",
            "linecolor": "white",
            "ticks": ""
           }
          },
          "title": {
           "x": 0.05
          },
          "xaxis": {
           "automargin": true,
           "gridcolor": "white",
           "linecolor": "white",
           "ticks": "",
           "title": {
            "standoff": 15
           },
           "zerolinecolor": "white",
           "zerolinewidth": 2
          },
          "yaxis": {
           "automargin": true,
           "gridcolor": "white",
           "linecolor": "white",
           "ticks": "",
           "title": {
            "standoff": 15
           },
           "zerolinecolor": "white",
           "zerolinewidth": 2
          }
         }
        },
        "title": {
         "text": "Percentage of Delayed Flights",
         "x": 0.5
        },
        "width": 500
       }
      }
     },
     "metadata": {},
     "output_type": "display_data"
    }
   ],
   "source": [
    "# Visualizing total delayed flight stats\n",
    "\n",
    "# Data and Labels\n",
    "data = [on_time, delayed]\n",
    "keys = ['On Time', 'Delayed']\n",
    "\n",
    "# Pie Chart\n",
    "fig_pie = go.Figure(data=[go.Pie(\n",
    "    values=data, \n",
    "    labels=keys, \n",
    "    pull=[0,0.1],\n",
    "    rotation = 73,\n",
    "    textinfo='label+percent',\n",
    "    insidetextorientation='horizontal'\n",
    "    )])\n",
    "\n",
    "# Adjusting Figure Size\n",
    "fig_pie.update_layout(\n",
    "    width=500, \n",
    "    height=500,\n",
    "    title_text='Percentage of Delayed Flights',\n",
    "    title_x=0.5,\n",
    "    showlegend=False\n",
    "    )\n",
    "\n",
    "fig_pie.show()"
   ]
  },
  {
   "cell_type": "markdown",
   "metadata": {},
   "source": [
    "### *** Below I chose to keep the Month and Weekday variables as I wanted to see what percentage of delayed flights happen in each month and day. I wasn't sure how to do that had I kept the Flight_Date variable. *** "
   ]
  },
  {
   "cell_type": "code",
   "execution_count": 160,
   "metadata": {},
   "outputs": [
    {
     "data": {
      "application/vnd.plotly.v1+json": {
       "config": {
        "plotlyServerURL": "https://plot.ly"
       },
       "data": [
        {
         "alignmentgroup": "True",
         "hovertemplate": "Carrier Name=%{x}<br>Percentage of Delayed Flights (%)=%{y}<extra></extra>",
         "legendgroup": "",
         "marker": {
          "color": "#636efa",
          "pattern": {
           "shape": ""
          }
         },
         "name": "",
         "offsetgroup": "",
         "orientation": "v",
         "showlegend": false,
         "textposition": "auto",
         "type": "bar",
         "x": [
          "Southwest Airlines Co.",
          "American Airlines Inc.",
          "Delta Air Lines Inc.",
          "United Air Lines Inc.",
          "SkyWest Airlines Inc.",
          "JetBlue Airways",
          "Spirit Air Lines",
          "Frontier Airlines Inc.",
          "Alaska Airlines Inc.",
          "Envoy Air"
         ],
         "xaxis": "x",
         "y": [
          23.017956893829965,
          16.00195705132739,
          11.036704920554945,
          10.469641277741603,
          7.842642573449581,
          5.831415048733057,
          5.30802777496243,
          3.8949258850662547,
          3.379486397982866,
          3.0477939058704977
         ],
         "yaxis": "y"
        },
        {
         "alignmentgroup": "True",
         "hovertemplate": "Month=%{x}<br>Percentage of Delayed Flights (%)=%{y}<extra></extra>",
         "legendgroup": "",
         "marker": {
          "color": "#636efa",
          "pattern": {
           "shape": ""
          }
         },
         "name": "",
         "offsetgroup": "",
         "orientation": "v",
         "showlegend": false,
         "textposition": "auto",
         "type": "bar",
         "x": [
          "Jan",
          "Feb",
          "Mar",
          "Apr",
          "May",
          "Jun",
          "Jul",
          "Aug",
          "Sep",
          "Oct",
          "Nov",
          "Dec"
         ],
         "xaxis": "x2",
         "y": [
          9.217245092970876,
          5.98169384104864,
          8.898021146945826,
          9.178745722595995,
          7.591886257693494,
          11.102693424701284,
          12.182717428475389,
          9.365190590112224,
          7.634177232726507,
          6.780045368008045,
          5.5669506238283395,
          6.500633270893383
         ],
         "yaxis": "y2"
        },
        {
         "alignmentgroup": "True",
         "hovertemplate": "Week Day=%{x}<br>Percentage of Delayed Flights (%)=%{y}<extra></extra>",
         "legendgroup": "",
         "marker": {
          "color": "#636efa",
          "pattern": {
           "shape": ""
          }
         },
         "name": "",
         "offsetgroup": "",
         "orientation": "v",
         "showlegend": false,
         "textposition": "auto",
         "type": "bar",
         "x": [
          "Sunday",
          "Monday",
          "Tuesday",
          "Wednesday",
          "Thursday",
          "Friday",
          "Saturday"
         ],
         "xaxis": "x3",
         "y": [
          16.443387332103008,
          14.698738781042852,
          11.972647947320029,
          12.168134333636418,
          15.115377800592219,
          16.252275874238308,
          13.349437931067168
         ],
         "yaxis": "y3"
        },
        {
         "alignmentgroup": "True",
         "hovertemplate": "Tail Number=%{x}<br>Percentage of Delayed Flights (%)=%{y}<extra></extra>",
         "legendgroup": "",
         "marker": {
          "color": "#636efa",
          "pattern": {
           "shape": ""
          }
         },
         "name": "",
         "offsetgroup": "",
         "orientation": "v",
         "showlegend": false,
         "textposition": "auto",
         "type": "bar",
         "x": [
          "N486HA",
          "N490HA",
          "N488HA",
          "N491HA",
          "N476HA",
          "N485HA",
          "N479HA",
          "N489HA",
          "N495HA",
          "N475HA"
         ],
         "xaxis": "x4",
         "y": [
          0.04907211413313345,
          0.047540889175041616,
          0.047467973700846766,
          0.046592988010508575,
          0.04455135473305281,
          0.043603453568519766,
          0.043530538094324916,
          0.042947214300766125,
          0.042582636929791876,
          0.04163473576525884
         ],
         "yaxis": "y4"
        },
        {
         "alignmentgroup": "True",
         "hovertemplate": "Origin=%{x}<br>Percentage of Delayed Flights (%)=%{y}<extra></extra>",
         "legendgroup": "",
         "marker": {
          "color": "#636efa",
          "pattern": {
           "shape": ""
          }
         },
         "name": "",
         "offsetgroup": "",
         "orientation": "v",
         "showlegend": false,
         "textposition": "auto",
         "type": "bar",
         "x": [
          "DEN",
          "DFW",
          "ATL",
          "ORD",
          "LAS",
          "MCO",
          "CLT",
          "LAX",
          "PHX",
          "SEA"
         ],
         "xaxis": "x5",
         "y": [
          5.250497465822694,
          5.094166689148938,
          4.571727316542844,
          3.9563207143383177,
          3.4988490292398344,
          3.4131004315866917,
          3.3399662109692576,
          2.6189050866563957,
          2.3943254261362603,
          2.297712422828085
         ],
         "yaxis": "y5"
        },
        {
         "alignmentgroup": "True",
         "hovertemplate": "Destination=%{x}<br>Percentage of Delayed Flights (%)=%{y}<extra></extra>",
         "legendgroup": "",
         "marker": {
          "color": "#636efa",
          "pattern": {
           "shape": ""
          }
         },
         "name": "",
         "offsetgroup": "",
         "orientation": "v",
         "showlegend": false,
         "textposition": "auto",
         "type": "bar",
         "x": [
          "DFW",
          "DEN",
          "ATL",
          "ORD",
          "LAS",
          "MCO",
          "CLT",
          "LAX",
          "PHX",
          "SFO"
         ],
         "xaxis": "x6",
         "y": [
          4.527030130861402,
          4.2592115941437205,
          3.981184891038761,
          3.4834638641847206,
          3.377955173024774,
          3.233947111489947,
          2.8023604197306358,
          2.7250700170840956,
          2.442157977208081,
          2.3748569945262354
         ],
         "yaxis": "y6"
        },
        {
         "alignmentgroup": "True",
         "hovertemplate": "Departure Time Block Group=%{x}<br>Percentage of Delayed Flights (%)=%{y}<extra></extra>",
         "legendgroup": "",
         "marker": {
          "color": "#636efa",
          "pattern": {
           "shape": ""
          }
         },
         "name": "",
         "offsetgroup": "",
         "orientation": "v",
         "showlegend": false,
         "textposition": "auto",
         "type": "bar",
         "x": [
          "Early Morning",
          "Morning",
          "Early Afternoon",
          "Afternoon",
          "Evening",
          "Night"
         ],
         "xaxis": "x7",
         "y": [
          9.060695569874534,
          18.6956734145077,
          18.026892685192543,
          22.40393568563514,
          22.69107682301446,
          9.121725821775623
         ],
         "yaxis": "y7"
        },
        {
         "alignmentgroup": "True",
         "hovertemplate": "Arrival Time Block Group=%{x}<br>Percentage of Delayed Flights (%)=%{y}<extra></extra>",
         "legendgroup": "",
         "marker": {
          "color": "#636efa",
          "pattern": {
           "shape": ""
          }
         },
         "name": "",
         "offsetgroup": "",
         "orientation": "v",
         "showlegend": false,
         "textposition": "auto",
         "type": "bar",
         "x": [
          "Early Morning",
          "Morning",
          "Early Afternoon",
          "Afternoon",
          "Evening",
          "Night"
         ],
         "xaxis": "x8",
         "y": [
          6.772097581320806,
          13.898491451754383,
          14.331682283945982,
          19.30480928593147,
          23.11981981128017,
          22.573099585767192
         ],
         "yaxis": "y8"
        }
       ],
       "layout": {
        "annotations": [
         {
          "font": {
           "size": 16
          },
          "showarrow": false,
          "text": "Carrier Name",
          "x": 0.225,
          "xanchor": "center",
          "xref": "paper",
          "y": 1,
          "yanchor": "bottom",
          "yref": "paper"
         },
         {
          "font": {
           "size": 16
          },
          "showarrow": false,
          "text": "Month",
          "x": 0.775,
          "xanchor": "center",
          "xref": "paper",
          "y": 1,
          "yanchor": "bottom",
          "yref": "paper"
         },
         {
          "font": {
           "size": 16
          },
          "showarrow": false,
          "text": "Week Day",
          "x": 0.225,
          "xanchor": "center",
          "xref": "paper",
          "y": 0.71875,
          "yanchor": "bottom",
          "yref": "paper"
         },
         {
          "font": {
           "size": 16
          },
          "showarrow": false,
          "text": "Tail Number",
          "x": 0.775,
          "xanchor": "center",
          "xref": "paper",
          "y": 0.71875,
          "yanchor": "bottom",
          "yref": "paper"
         },
         {
          "font": {
           "size": 16
          },
          "showarrow": false,
          "text": "Origin",
          "x": 0.225,
          "xanchor": "center",
          "xref": "paper",
          "y": 0.4375,
          "yanchor": "bottom",
          "yref": "paper"
         },
         {
          "font": {
           "size": 16
          },
          "showarrow": false,
          "text": "Destination",
          "x": 0.775,
          "xanchor": "center",
          "xref": "paper",
          "y": 0.4375,
          "yanchor": "bottom",
          "yref": "paper"
         },
         {
          "font": {
           "size": 16
          },
          "showarrow": false,
          "text": "Departure Time Block Group",
          "x": 0.225,
          "xanchor": "center",
          "xref": "paper",
          "y": 0.15625,
          "yanchor": "bottom",
          "yref": "paper"
         },
         {
          "font": {
           "size": 16
          },
          "showarrow": false,
          "text": "Arrival Time Block Group",
          "x": 0.775,
          "xanchor": "center",
          "xref": "paper",
          "y": 0.15625,
          "yanchor": "bottom",
          "yref": "paper"
         }
        ],
        "height": 1200,
        "showlegend": false,
        "template": {
         "data": {
          "bar": [
           {
            "error_x": {
             "color": "#2a3f5f"
            },
            "error_y": {
             "color": "#2a3f5f"
            },
            "marker": {
             "line": {
              "color": "#E5ECF6",
              "width": 0.5
             },
             "pattern": {
              "fillmode": "overlay",
              "size": 10,
              "solidity": 0.2
             }
            },
            "type": "bar"
           }
          ],
          "barpolar": [
           {
            "marker": {
             "line": {
              "color": "#E5ECF6",
              "width": 0.5
             },
             "pattern": {
              "fillmode": "overlay",
              "size": 10,
              "solidity": 0.2
             }
            },
            "type": "barpolar"
           }
          ],
          "carpet": [
           {
            "aaxis": {
             "endlinecolor": "#2a3f5f",
             "gridcolor": "white",
             "linecolor": "white",
             "minorgridcolor": "white",
             "startlinecolor": "#2a3f5f"
            },
            "baxis": {
             "endlinecolor": "#2a3f5f",
             "gridcolor": "white",
             "linecolor": "white",
             "minorgridcolor": "white",
             "startlinecolor": "#2a3f5f"
            },
            "type": "carpet"
           }
          ],
          "choropleth": [
           {
            "colorbar": {
             "outlinewidth": 0,
             "ticks": ""
            },
            "type": "choropleth"
           }
          ],
          "contour": [
           {
            "colorbar": {
             "outlinewidth": 0,
             "ticks": ""
            },
            "colorscale": [
             [
              0,
              "#0d0887"
             ],
             [
              0.1111111111111111,
              "#46039f"
             ],
             [
              0.2222222222222222,
              "#7201a8"
             ],
             [
              0.3333333333333333,
              "#9c179e"
             ],
             [
              0.4444444444444444,
              "#bd3786"
             ],
             [
              0.5555555555555556,
              "#d8576b"
             ],
             [
              0.6666666666666666,
              "#ed7953"
             ],
             [
              0.7777777777777778,
              "#fb9f3a"
             ],
             [
              0.8888888888888888,
              "#fdca26"
             ],
             [
              1,
              "#f0f921"
             ]
            ],
            "type": "contour"
           }
          ],
          "contourcarpet": [
           {
            "colorbar": {
             "outlinewidth": 0,
             "ticks": ""
            },
            "type": "contourcarpet"
           }
          ],
          "heatmap": [
           {
            "colorbar": {
             "outlinewidth": 0,
             "ticks": ""
            },
            "colorscale": [
             [
              0,
              "#0d0887"
             ],
             [
              0.1111111111111111,
              "#46039f"
             ],
             [
              0.2222222222222222,
              "#7201a8"
             ],
             [
              0.3333333333333333,
              "#9c179e"
             ],
             [
              0.4444444444444444,
              "#bd3786"
             ],
             [
              0.5555555555555556,
              "#d8576b"
             ],
             [
              0.6666666666666666,
              "#ed7953"
             ],
             [
              0.7777777777777778,
              "#fb9f3a"
             ],
             [
              0.8888888888888888,
              "#fdca26"
             ],
             [
              1,
              "#f0f921"
             ]
            ],
            "type": "heatmap"
           }
          ],
          "heatmapgl": [
           {
            "colorbar": {
             "outlinewidth": 0,
             "ticks": ""
            },
            "colorscale": [
             [
              0,
              "#0d0887"
             ],
             [
              0.1111111111111111,
              "#46039f"
             ],
             [
              0.2222222222222222,
              "#7201a8"
             ],
             [
              0.3333333333333333,
              "#9c179e"
             ],
             [
              0.4444444444444444,
              "#bd3786"
             ],
             [
              0.5555555555555556,
              "#d8576b"
             ],
             [
              0.6666666666666666,
              "#ed7953"
             ],
             [
              0.7777777777777778,
              "#fb9f3a"
             ],
             [
              0.8888888888888888,
              "#fdca26"
             ],
             [
              1,
              "#f0f921"
             ]
            ],
            "type": "heatmapgl"
           }
          ],
          "histogram": [
           {
            "marker": {
             "pattern": {
              "fillmode": "overlay",
              "size": 10,
              "solidity": 0.2
             }
            },
            "type": "histogram"
           }
          ],
          "histogram2d": [
           {
            "colorbar": {
             "outlinewidth": 0,
             "ticks": ""
            },
            "colorscale": [
             [
              0,
              "#0d0887"
             ],
             [
              0.1111111111111111,
              "#46039f"
             ],
             [
              0.2222222222222222,
              "#7201a8"
             ],
             [
              0.3333333333333333,
              "#9c179e"
             ],
             [
              0.4444444444444444,
              "#bd3786"
             ],
             [
              0.5555555555555556,
              "#d8576b"
             ],
             [
              0.6666666666666666,
              "#ed7953"
             ],
             [
              0.7777777777777778,
              "#fb9f3a"
             ],
             [
              0.8888888888888888,
              "#fdca26"
             ],
             [
              1,
              "#f0f921"
             ]
            ],
            "type": "histogram2d"
           }
          ],
          "histogram2dcontour": [
           {
            "colorbar": {
             "outlinewidth": 0,
             "ticks": ""
            },
            "colorscale": [
             [
              0,
              "#0d0887"
             ],
             [
              0.1111111111111111,
              "#46039f"
             ],
             [
              0.2222222222222222,
              "#7201a8"
             ],
             [
              0.3333333333333333,
              "#9c179e"
             ],
             [
              0.4444444444444444,
              "#bd3786"
             ],
             [
              0.5555555555555556,
              "#d8576b"
             ],
             [
              0.6666666666666666,
              "#ed7953"
             ],
             [
              0.7777777777777778,
              "#fb9f3a"
             ],
             [
              0.8888888888888888,
              "#fdca26"
             ],
             [
              1,
              "#f0f921"
             ]
            ],
            "type": "histogram2dcontour"
           }
          ],
          "mesh3d": [
           {
            "colorbar": {
             "outlinewidth": 0,
             "ticks": ""
            },
            "type": "mesh3d"
           }
          ],
          "parcoords": [
           {
            "line": {
             "colorbar": {
              "outlinewidth": 0,
              "ticks": ""
             }
            },
            "type": "parcoords"
           }
          ],
          "pie": [
           {
            "automargin": true,
            "type": "pie"
           }
          ],
          "scatter": [
           {
            "fillpattern": {
             "fillmode": "overlay",
             "size": 10,
             "solidity": 0.2
            },
            "type": "scatter"
           }
          ],
          "scatter3d": [
           {
            "line": {
             "colorbar": {
              "outlinewidth": 0,
              "ticks": ""
             }
            },
            "marker": {
             "colorbar": {
              "outlinewidth": 0,
              "ticks": ""
             }
            },
            "type": "scatter3d"
           }
          ],
          "scattercarpet": [
           {
            "marker": {
             "colorbar": {
              "outlinewidth": 0,
              "ticks": ""
             }
            },
            "type": "scattercarpet"
           }
          ],
          "scattergeo": [
           {
            "marker": {
             "colorbar": {
              "outlinewidth": 0,
              "ticks": ""
             }
            },
            "type": "scattergeo"
           }
          ],
          "scattergl": [
           {
            "marker": {
             "colorbar": {
              "outlinewidth": 0,
              "ticks": ""
             }
            },
            "type": "scattergl"
           }
          ],
          "scattermapbox": [
           {
            "marker": {
             "colorbar": {
              "outlinewidth": 0,
              "ticks": ""
             }
            },
            "type": "scattermapbox"
           }
          ],
          "scatterpolar": [
           {
            "marker": {
             "colorbar": {
              "outlinewidth": 0,
              "ticks": ""
             }
            },
            "type": "scatterpolar"
           }
          ],
          "scatterpolargl": [
           {
            "marker": {
             "colorbar": {
              "outlinewidth": 0,
              "ticks": ""
             }
            },
            "type": "scatterpolargl"
           }
          ],
          "scatterternary": [
           {
            "marker": {
             "colorbar": {
              "outlinewidth": 0,
              "ticks": ""
             }
            },
            "type": "scatterternary"
           }
          ],
          "surface": [
           {
            "colorbar": {
             "outlinewidth": 0,
             "ticks": ""
            },
            "colorscale": [
             [
              0,
              "#0d0887"
             ],
             [
              0.1111111111111111,
              "#46039f"
             ],
             [
              0.2222222222222222,
              "#7201a8"
             ],
             [
              0.3333333333333333,
              "#9c179e"
             ],
             [
              0.4444444444444444,
              "#bd3786"
             ],
             [
              0.5555555555555556,
              "#d8576b"
             ],
             [
              0.6666666666666666,
              "#ed7953"
             ],
             [
              0.7777777777777778,
              "#fb9f3a"
             ],
             [
              0.8888888888888888,
              "#fdca26"
             ],
             [
              1,
              "#f0f921"
             ]
            ],
            "type": "surface"
           }
          ],
          "table": [
           {
            "cells": {
             "fill": {
              "color": "#EBF0F8"
             },
             "line": {
              "color": "white"
             }
            },
            "header": {
             "fill": {
              "color": "#C8D4E3"
             },
             "line": {
              "color": "white"
             }
            },
            "type": "table"
           }
          ]
         },
         "layout": {
          "annotationdefaults": {
           "arrowcolor": "#2a3f5f",
           "arrowhead": 0,
           "arrowwidth": 1
          },
          "autotypenumbers": "strict",
          "coloraxis": {
           "colorbar": {
            "outlinewidth": 0,
            "ticks": ""
           }
          },
          "colorscale": {
           "diverging": [
            [
             0,
             "#8e0152"
            ],
            [
             0.1,
             "#c51b7d"
            ],
            [
             0.2,
             "#de77ae"
            ],
            [
             0.3,
             "#f1b6da"
            ],
            [
             0.4,
             "#fde0ef"
            ],
            [
             0.5,
             "#f7f7f7"
            ],
            [
             0.6,
             "#e6f5d0"
            ],
            [
             0.7,
             "#b8e186"
            ],
            [
             0.8,
             "#7fbc41"
            ],
            [
             0.9,
             "#4d9221"
            ],
            [
             1,
             "#276419"
            ]
           ],
           "sequential": [
            [
             0,
             "#0d0887"
            ],
            [
             0.1111111111111111,
             "#46039f"
            ],
            [
             0.2222222222222222,
             "#7201a8"
            ],
            [
             0.3333333333333333,
             "#9c179e"
            ],
            [
             0.4444444444444444,
             "#bd3786"
            ],
            [
             0.5555555555555556,
             "#d8576b"
            ],
            [
             0.6666666666666666,
             "#ed7953"
            ],
            [
             0.7777777777777778,
             "#fb9f3a"
            ],
            [
             0.8888888888888888,
             "#fdca26"
            ],
            [
             1,
             "#f0f921"
            ]
           ],
           "sequentialminus": [
            [
             0,
             "#0d0887"
            ],
            [
             0.1111111111111111,
             "#46039f"
            ],
            [
             0.2222222222222222,
             "#7201a8"
            ],
            [
             0.3333333333333333,
             "#9c179e"
            ],
            [
             0.4444444444444444,
             "#bd3786"
            ],
            [
             0.5555555555555556,
             "#d8576b"
            ],
            [
             0.6666666666666666,
             "#ed7953"
            ],
            [
             0.7777777777777778,
             "#fb9f3a"
            ],
            [
             0.8888888888888888,
             "#fdca26"
            ],
            [
             1,
             "#f0f921"
            ]
           ]
          },
          "colorway": [
           "#636efa",
           "#EF553B",
           "#00cc96",
           "#ab63fa",
           "#FFA15A",
           "#19d3f3",
           "#FF6692",
           "#B6E880",
           "#FF97FF",
           "#FECB52"
          ],
          "font": {
           "color": "#2a3f5f"
          },
          "geo": {
           "bgcolor": "white",
           "lakecolor": "white",
           "landcolor": "#E5ECF6",
           "showlakes": true,
           "showland": true,
           "subunitcolor": "white"
          },
          "hoverlabel": {
           "align": "left"
          },
          "hovermode": "closest",
          "mapbox": {
           "style": "light"
          },
          "paper_bgcolor": "white",
          "plot_bgcolor": "#E5ECF6",
          "polar": {
           "angularaxis": {
            "gridcolor": "white",
            "linecolor": "white",
            "ticks": ""
           },
           "bgcolor": "#E5ECF6",
           "radialaxis": {
            "gridcolor": "white",
            "linecolor": "white",
            "ticks": ""
           }
          },
          "scene": {
           "xaxis": {
            "backgroundcolor": "#E5ECF6",
            "gridcolor": "white",
            "gridwidth": 2,
            "linecolor": "white",
            "showbackground": true,
            "ticks": "",
            "zerolinecolor": "white"
           },
           "yaxis": {
            "backgroundcolor": "#E5ECF6",
            "gridcolor": "white",
            "gridwidth": 2,
            "linecolor": "white",
            "showbackground": true,
            "ticks": "",
            "zerolinecolor": "white"
           },
           "zaxis": {
            "backgroundcolor": "#E5ECF6",
            "gridcolor": "white",
            "gridwidth": 2,
            "linecolor": "white",
            "showbackground": true,
            "ticks": "",
            "zerolinecolor": "white"
           }
          },
          "shapedefaults": {
           "line": {
            "color": "#2a3f5f"
           }
          },
          "ternary": {
           "aaxis": {
            "gridcolor": "white",
            "linecolor": "white",
            "ticks": ""
           },
           "baxis": {
            "gridcolor": "white",
            "linecolor": "white",
            "ticks": ""
           },
           "bgcolor": "#E5ECF6",
           "caxis": {
            "gridcolor": "white",
            "linecolor": "white",
            "ticks": ""
           }
          },
          "title": {
           "x": 0.05
          },
          "xaxis": {
           "automargin": true,
           "gridcolor": "white",
           "linecolor": "white",
           "ticks": "",
           "title": {
            "standoff": 15
           },
           "zerolinecolor": "white",
           "zerolinewidth": 2
          },
          "yaxis": {
           "automargin": true,
           "gridcolor": "white",
           "linecolor": "white",
           "ticks": "",
           "title": {
            "standoff": 15
           },
           "zerolinecolor": "white",
           "zerolinewidth": 2
          }
         }
        },
        "title": {
         "text": "Percentage of Delayed Flights by Feature"
        },
        "width": 800,
        "xaxis": {
         "anchor": "y",
         "domain": [
          0,
          0.45
         ]
        },
        "xaxis2": {
         "anchor": "y2",
         "domain": [
          0.55,
          1
         ]
        },
        "xaxis3": {
         "anchor": "y3",
         "domain": [
          0,
          0.45
         ]
        },
        "xaxis4": {
         "anchor": "y4",
         "domain": [
          0.55,
          1
         ]
        },
        "xaxis5": {
         "anchor": "y5",
         "domain": [
          0,
          0.45
         ]
        },
        "xaxis6": {
         "anchor": "y6",
         "domain": [
          0.55,
          1
         ]
        },
        "xaxis7": {
         "anchor": "y7",
         "domain": [
          0,
          0.45
         ]
        },
        "xaxis8": {
         "anchor": "y8",
         "domain": [
          0.55,
          1
         ]
        },
        "yaxis": {
         "anchor": "x",
         "domain": [
          0.84375,
          1
         ]
        },
        "yaxis2": {
         "anchor": "x2",
         "domain": [
          0.84375,
          1
         ]
        },
        "yaxis3": {
         "anchor": "x3",
         "domain": [
          0.5625,
          0.71875
         ]
        },
        "yaxis4": {
         "anchor": "x4",
         "domain": [
          0.5625,
          0.71875
         ]
        },
        "yaxis5": {
         "anchor": "x5",
         "domain": [
          0.28125,
          0.4375
         ]
        },
        "yaxis6": {
         "anchor": "x6",
         "domain": [
          0.28125,
          0.4375
         ]
        },
        "yaxis7": {
         "anchor": "x7",
         "domain": [
          0,
          0.15625
         ]
        },
        "yaxis8": {
         "anchor": "x8",
         "domain": [
          0,
          0.15625
         ]
        }
       }
      }
     },
     "metadata": {},
     "output_type": "display_data"
    }
   ],
   "source": [
    "# Define categorical variables\n",
    "categorical_vars = [\n",
    "    ('Carrier_Name', 'Carrier Name'),\n",
    "    ('Month', 'Month'),\n",
    "    ('Week_Day', 'Week Day'),\n",
    "    ('Tail_Number', 'Tail Number'),\n",
    "    ('Origin', 'Origin'),\n",
    "    ('Destination', 'Destination'),\n",
    "    ('Dep_Time_Block_Group', 'Departure Time Block Group'),\n",
    "    ('Arr_Time_Block_Group', 'Arrival Time Block Group')\n",
    "]\n",
    "\n",
    "# Initialize subplot figure with two columns of four\n",
    "fig = sp.make_subplots(rows=4, cols=2, subplot_titles=[title for _, title in categorical_vars])\n",
    "\n",
    "# Create bar charts for each categorical variable\n",
    "for i, (var, title) in enumerate(categorical_vars, start=1):\n",
    "    if var in ['Tail_Number', 'Origin', 'Destination', 'Carrier_Name']:\n",
    "        # Limit top 10 for Tail_Number, Origin, and Destination\n",
    "        top_10 = df[df['Delayed'] == 1][var].value_counts().head(10).sort_values(ascending=False)\n",
    "        labels = top_10.index\n",
    "        values = (top_10.values / delayed) * 100\n",
    "    elif var == 'Month':\n",
    "        # Sort month in order from January to December\n",
    "        month_order = ['Jan', 'Feb', 'Mar', 'Apr', 'May', 'Jun', 'Jul', 'Aug', 'Sep', 'Oct', 'Nov', 'Dec']\n",
    "        month_counts = df[df['Delayed'] == 1]['Month'].value_counts(normalize=True).loc[month_order]\n",
    "        labels = month_counts.index\n",
    "        values = month_counts.values * 100\n",
    "    elif var == 'Week_Day':\n",
    "        # Sort week day from Sunday to Saturday\n",
    "        weekday_order = ['Sunday', 'Monday', 'Tuesday', 'Wednesday', 'Thursday', 'Friday', 'Saturday']\n",
    "        weekday_counts = df[df['Delayed'] == 1]['Week_Day'].value_counts(normalize=True).loc[weekday_order]\n",
    "        labels = weekday_counts.index\n",
    "        values = weekday_counts.values * 100\n",
    "    elif var == 'Dep_Time_Block_Group':\n",
    "        # Sort time block group from Early Morning to Night\n",
    "        dep_block_order = ['Early Morning', 'Morning', 'Early Afternoon', 'Afternoon', 'Evening', 'Night']\n",
    "        dep_block_counts = df[df['Delayed'] == 1]['Dep_Time_Block_Group'].value_counts(normalize=True).loc[dep_block_order]\n",
    "        labels = dep_block_counts.index\n",
    "        values = dep_block_counts.values * 100\n",
    "    else:\n",
    "        # Sort time block group from Early Morning to Night\n",
    "        arr_block_order = ['Early Morning', 'Morning', 'Early Afternoon', 'Afternoon', 'Evening', 'Night']\n",
    "        arr_block_counts = df[df['Delayed'] == 1]['Arr_Time_Block_Group'].value_counts(normalize=True).loc[arr_block_order]\n",
    "        labels = arr_block_counts.index\n",
    "        values = arr_block_counts.values * 100\n",
    "    \n",
    "    # Create bar chart\n",
    "    bar = px.bar(x=labels, y=values, labels={'x': title, 'y': 'Percentage of Delayed Flights (%)'})\n",
    "\n",
    "    # Add bar chart to subplot\n",
    "    for trace in bar.data:\n",
    "        fig.add_trace(trace, row=(i-1) // 2 + 1, col=(i-1) % 2 + 1)\n",
    "\n",
    "# Update layout\n",
    "fig.update_layout(height=1200, width=800, title_text='Percentage of Delayed Flights by Feature', showlegend=False)\n",
    "\n",
    "fig.show()"
   ]
  },
  {
   "cell_type": "code",
   "execution_count": null,
   "metadata": {},
   "outputs": [],
   "source": []
  }
 ],
 "metadata": {
  "kernelspec": {
   "display_name": "FS_Env",
   "language": "python",
   "name": "python3"
  },
  "language_info": {
   "codemirror_mode": {
    "name": "ipython",
    "version": 3
   },
   "file_extension": ".py",
   "mimetype": "text/x-python",
   "name": "python",
   "nbconvert_exporter": "python",
   "pygments_lexer": "ipython3",
   "version": "3.9.18"
  }
 },
 "nbformat": 4,
 "nbformat_minor": 2
}
